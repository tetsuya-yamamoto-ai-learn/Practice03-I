{
 "cells": [
  {
   "cell_type": "markdown",
   "metadata": {},
   "source": [
    "# 準備"
   ]
  },
  {
   "cell_type": "code",
   "execution_count": 1,
   "metadata": {},
   "outputs": [],
   "source": [
    "import warnings\n",
    "\n",
    "import matplotlib.pyplot as plt\n",
    "import numpy as np\n",
    "import pandas as pd\n",
    "import seaborn as sns\n",
    "\n",
    "from sklearn.datasets import load_boston\n",
    "from sklearn.model_selection import train_test_split\n",
    "from sklearn.linear_model import LinearRegression\n",
    "\n",
    "warnings.filterwarnings('ignore')\n",
    "\n",
    "%matplotlib inline"
   ]
  },
  {
   "cell_type": "markdown",
   "metadata": {},
   "source": [
    "# 二乗平均平方根誤差(RMSE)"
   ]
  },
  {
   "cell_type": "markdown",
   "metadata": {},
   "source": [
    "## 評価指標・導出方法"
   ]
  },
  {
   "cell_type": "markdown",
   "metadata": {},
   "source": [
    "Root Mean Square Errorの略称。観測値と予測値の差の二乗平均の平方根をとった値。  \n",
    "観測値を$y_i$、モデルから計算した予測値を$\\hat{y_i}$とすると以下の式で求められる。"
   ]
  },
  {
   "cell_type": "markdown",
   "metadata": {},
   "source": [
    "$$\n",
    "RMSE = \\sqrt{\\frac{1}{n}\\sum_{i=1}^{n}\\left( y_{i} - \\hat{y_{i}} \\right)^{2}} \n",
    "$$"
   ]
  },
  {
   "cell_type": "markdown",
   "metadata": {},
   "source": [
    "## 評価指標の特性"
   ]
  },
  {
   "cell_type": "markdown",
   "metadata": {},
   "source": [
    "- 観測値と予測値の差が小さいとき、RMSEの値は小さくなる\n",
    "- 外れ値の影響を強く受ける。観測値と予測値の2乗和平均をとるため、観測値と予測値の差が大きいと著しくRMSEの値が大きくなるためである。\n",
    "- 分布の裾野が比較的狭く、外れ値があまりないデータを評価するときに使用するとよい（ex 正規分布）"
   ]
  },
  {
   "cell_type": "markdown",
   "metadata": {},
   "source": [
    "## sklearnにおける使用例"
   ]
  },
  {
   "cell_type": "code",
   "execution_count": 2,
   "metadata": {},
   "outputs": [
    {
     "name": "stdout",
     "output_type": "stream",
     "text": [
      "RMSE: 6.528\n"
     ]
    }
   ],
   "source": [
    "from sklearn.metrics import mean_squared_error\n",
    "\n",
    "# データの準備\n",
    "boston = load_boston()\n",
    "X_train, X_test, y_train, y_test = train_test_split(boston.data[:,12], boston.target, test_size=0.3, random_state=1)\n",
    "\n",
    "# モデル構築(LinearRegression)\n",
    "logistic_regression = LinearRegression()\n",
    "logistic_regression.fit(X_train.reshape(-1,1), y_train)\n",
    "\n",
    "# 2乗平均誤差の平方根 = 二乗平方平均誤差 の計算\n",
    "RMSE = np.sqrt(mean_squared_error(y_test, logistic_regression.predict(X_test.reshape(-1,1))))\n",
    "\n",
    "print(f'RMSE: {RMSE:.3f}')"
   ]
  },
  {
   "cell_type": "markdown",
   "metadata": {},
   "source": [
    "# 平均絶対誤差(MAE)"
   ]
  },
  {
   "cell_type": "markdown",
   "metadata": {},
   "source": [
    "## 評価指標・導出方法"
   ]
  },
  {
   "cell_type": "markdown",
   "metadata": {},
   "source": [
    "Mean Abusolute Errorの略。観測値と予測値の差の絶対値の平均をとった値。  \n",
    "観測値を$y_i$、モデルから計算した予測値を$\\hat{y_i}$とすると以下の式で求められる。"
   ]
  },
  {
   "cell_type": "markdown",
   "metadata": {},
   "source": [
    "$$\n",
    "MAE = \\frac{1}{n}\\sum_{i=1}^{n}| y_{i} - \\hat{y_{i}} |\n",
    "$$"
   ]
  },
  {
   "cell_type": "markdown",
   "metadata": {},
   "source": [
    "## 評価指標の特性"
   ]
  },
  {
   "cell_type": "markdown",
   "metadata": {},
   "source": [
    "- 観測値と予測値の差が小さいとき、MAEの値は小さくなる\n",
    "- RMSEより外れ値の影響を受けにくい。観測値と予測値の差の絶対値和を計算しているためである。\n",
    "- 分布の裾野が比較的広く、外れ値が多少あるようなデータに対して使用することができる（ex ラプラス分布）"
   ]
  },
  {
   "cell_type": "markdown",
   "metadata": {},
   "source": [
    "## sklearnにおける使用例"
   ]
  },
  {
   "cell_type": "code",
   "execution_count": 3,
   "metadata": {},
   "outputs": [
    {
     "name": "stdout",
     "output_type": "stream",
     "text": [
      "RAE: 4.815\n"
     ]
    }
   ],
   "source": [
    "from sklearn.metrics import mean_absolute_error\n",
    "\n",
    "# データの準備\n",
    "boston = load_boston()\n",
    "X_train, X_test, y_train, y_test = train_test_split(boston.data[:,12], boston.target, test_size=0.3, random_state=1)\n",
    "\n",
    "# モデル構築(LinearRegression)\n",
    "logistic_regression = LinearRegression()\n",
    "logistic_regression.fit(X_train.reshape(-1,1), y_train)\n",
    "\n",
    "# 平均絶対値誤差(MAE)の計算\n",
    "RAE = mean_absolute_error(y_test, logistic_regression.predict(X_test.reshape(-1,1)))\n",
    "\n",
    "print(f'RAE: {RAE:.3f}')"
   ]
  },
  {
   "cell_type": "markdown",
   "metadata": {},
   "source": [
    "# 決定係数(R²)"
   ]
  },
  {
   "cell_type": "markdown",
   "metadata": {},
   "source": [
    "## 評価指標・導出方法"
   ]
  },
  {
   "cell_type": "markdown",
   "metadata": {},
   "source": [
    "観測値と予測値の相関係数を示す値。  \n",
    "観測値を$y_i$、観測値の平均を$\\bar{y}$、予測値を$\\hat{y_i}$とすると以下の式で示される。"
   ]
  },
  {
   "cell_type": "markdown",
   "metadata": {},
   "source": [
    "$$\n",
    "R^{2} = 1 -\\frac{\\sum_{i=1}^{n}\\left(y_{i} - \\hat{y_{i}}\\right)^{2}}{\\sum_{i=1}^{n}\\left( \n",
    "y_{i} - \\bar{y} \\right)^{2}}\n",
    "$$"
   ]
  },
  {
   "cell_type": "markdown",
   "metadata": {},
   "source": [
    "## 評価指標の特性"
   ]
  },
  {
   "cell_type": "markdown",
   "metadata": {},
   "source": [
    "- 観測値と予測値の差が小さいとき、$R^2$は1に近くなる。\n",
    "- 係数で評価できるため、評価するデータのオーダーに関係なくモデルの評価を行う事ができる。"
   ]
  },
  {
   "cell_type": "markdown",
   "metadata": {},
   "source": [
    "## sklearnにおける使用例"
   ]
  },
  {
   "cell_type": "code",
   "execution_count": 4,
   "metadata": {},
   "outputs": [
    {
     "name": "stdout",
     "output_type": "stream",
     "text": [
      "R2: 0.534\n"
     ]
    }
   ],
   "source": [
    "from sklearn.metrics import r2_score\n",
    "\n",
    "# データセットの読み込み(ボストンデータセット)\n",
    "boston = load_boston()\n",
    "X_test, X_train, y_test, y_train = train_test_split(boston.data[:,12], boston.target, test_size=0.3 ,random_state=1)\n",
    "\n",
    "# モデル構築\n",
    "linear_regression = LinearRegression()\n",
    "linear_regression.fit(X_train.reshape(-1, 1), y_train)\n",
    "\n",
    "# 決定係数(R2)の計算\n",
    "R2 = r2_score(y_test, linear_regression.predict(X_test.reshape(-1, 1)))\n",
    "\n",
    "print(f'R2: {R2:.3f}')"
   ]
  },
  {
   "cell_type": "markdown",
   "metadata": {},
   "source": [
    "# 備考"
   ]
  },
  {
   "cell_type": "markdown",
   "metadata": {},
   "source": [
    "RMSEとMAEを比較する（比をとること）で、予測値と観測値との誤差の分布がどのようになっているか(正規分布、ラプラス分布など)がわかる。  \n",
    "これによって、モデル構築やデータセットに対してどのような対策をとるべきか評価する事ができる。  \n",
    "詳細は参考[1]の \"RMSEとMAEの見方(まとめ)\" の項参考。  \n",
    "\n",
    "手計算はEXCELで実施しました。（手計算とは。。。。）"
   ]
  },
  {
   "cell_type": "markdown",
   "metadata": {},
   "source": [
    "# 参考URL\n",
    "[1]Instruction of chemoinformatics  \n",
    "https://funatsu-lab.github.io/open-course-ware/basic-theory/accuracy-index/#rmse"
   ]
  },
  {
   "cell_type": "markdown",
   "metadata": {},
   "source": [
    "おわり"
   ]
  }
 ],
 "metadata": {
  "kernelspec": {
   "display_name": "Python 3",
   "language": "python",
   "name": "python3"
  },
  "language_info": {
   "codemirror_mode": {
    "name": "ipython",
    "version": 3
   },
   "file_extension": ".py",
   "mimetype": "text/x-python",
   "name": "python",
   "nbconvert_exporter": "python",
   "pygments_lexer": "ipython3",
   "version": "3.7.3"
  },
  "toc": {
   "base_numbering": 1,
   "nav_menu": {},
   "number_sections": true,
   "sideBar": true,
   "skip_h1_title": false,
   "title_cell": "Table of Contents",
   "title_sidebar": "Contents",
   "toc_cell": false,
   "toc_position": {},
   "toc_section_display": true,
   "toc_window_display": false
  }
 },
 "nbformat": 4,
 "nbformat_minor": 2
}
