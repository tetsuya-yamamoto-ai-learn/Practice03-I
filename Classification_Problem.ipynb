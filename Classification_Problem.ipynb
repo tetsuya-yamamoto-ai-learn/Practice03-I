{
 "cells": [
  {
   "cell_type": "markdown",
   "metadata": {},
   "source": [
    "# 準備"
   ]
  },
  {
   "cell_type": "code",
   "execution_count": 14,
   "metadata": {},
   "outputs": [
    {
     "name": "stderr",
     "output_type": "stream",
     "text": [
      "C:\\Users\\0175216\\AppData\\Local\\Continuum\\anaconda3\\envs\\py37\\lib\\importlib\\_bootstrap.py:219: RuntimeWarning: numpy.ufunc size changed, may indicate binary incompatibility. Expected 192 from C header, got 216 from PyObject\n",
      "  return f(*args, **kwds)\n",
      "C:\\Users\\0175216\\AppData\\Local\\Continuum\\anaconda3\\envs\\py37\\lib\\importlib\\_bootstrap.py:219: RuntimeWarning: numpy.ufunc size changed, may indicate binary incompatibility. Expected 216, got 192\n",
      "  return f(*args, **kwds)\n",
      "C:\\Users\\0175216\\AppData\\Local\\Continuum\\anaconda3\\envs\\py37\\lib\\importlib\\_bootstrap.py:219: RuntimeWarning: numpy.ufunc size changed, may indicate binary incompatibility. Expected 192 from C header, got 216 from PyObject\n",
      "  return f(*args, **kwds)\n"
     ]
    }
   ],
   "source": [
    "import warnings\n",
    "\n",
    "import matplotlib.pyplot as plt\n",
    "import numpy as np\n",
    "import pandas as pd\n",
    "import seaborn as sns\n",
    "\n",
    "from sklearn.datasets import load_breast_cancer\n",
    "from sklearn.model_selection import train_test_split\n",
    "from sklearn.linear_model import LogisticRegression\n",
    "\n",
    "warnings.filterwarnings('ignore')\n",
    "\n",
    "%matplotlib inline"
   ]
  },
  {
   "cell_type": "markdown",
   "metadata": {},
   "source": [
    "# 混合行列(Confusion Matrix)"
   ]
  },
  {
   "cell_type": "markdown",
   "metadata": {},
   "source": [
    "## 評価指標・導出方法"
   ]
  },
  {
   "cell_type": "markdown",
   "metadata": {},
   "source": [
    "それぞれあるデータに対してモデルが下した評価について「観測結果に対する予測結果の正解・不正解」と「モデルが判断した予測結果」をまとめたもの。\n",
    "\n",
    "「観測結果に対する予測結果の正解・不正解」は\n",
    "\n",
    "- 正解：True  \n",
    "- 不正解：False\n",
    "\n",
    "の二つがある。  \n",
    "\n",
    "この中で、True、Falseそれぞれの場合について、  \n",
    "2クラス問題の場合、「モデルが判断した予測結果」も\n",
    "\n",
    "- 陽：Positive\n",
    "- 陰：Negative\n",
    "\n",
    "の二つの結果がある。\n",
    "\n",
    "この時、すべての結果と評価の組み合わせは以下の4パターンに分けられる。\n",
    "\n",
    "- True\n",
    "  - 評価：陽（P）　と判断した時に　事実：陽　である場合　＝（TP）\n",
    "  - 評価：陰（N）　と判断した時に　事実：陰　である場合　＝（TN）\n",
    "\n",
    "- False\n",
    "  - 評価：陽（P）　と判断した時に　事実：陰　である場合　＝（FP）\n",
    "  - 評価：陰（N）　と判断した時に　事実：陽　である場合　＝（FN）\n",
    "  \n",
    "これをまとめたものを混合行列という。以下に表を示す。\n",
    " \n",
    "![混合行列](data:image/png;base64,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)\n",
    "  "
   ]
  },
  {
   "cell_type": "markdown",
   "metadata": {},
   "source": [
    "## sklearnにおける使用例"
   ]
  },
  {
   "cell_type": "code",
   "execution_count": 23,
   "metadata": {},
   "outputs": [
    {
     "name": "stdout",
     "output_type": "stream",
     "text": [
      "[[ 57   6]\n",
      " [  2 106]]\n"
     ]
    }
   ],
   "source": [
    "from sklearn.metrics import confusion_matrix\n",
    "\n",
    "# データセットの読み取り(がんの推測)\n",
    "cancer = load_breast_cancer()\n",
    "X_train, X_test, y_train, y_test = train_test_split(cancer.data, cancer.target, train_size=0.7, random_state=1)\n",
    "\n",
    "# モデルの構築\n",
    "lr = LogisticRegression()\n",
    "lr.fit(X_train, y_train)\n",
    "\n",
    "# 混合行列の表示\n",
    "print(confusion_matrix(y_test, lr.predict(X_test)))"
   ]
  },
  {
   "cell_type": "markdown",
   "metadata": {},
   "source": [
    "# 正答率(Accuracy)"
   ]
  },
  {
   "cell_type": "markdown",
   "metadata": {},
   "source": [
    "## 評価指標・導出方法"
   ]
  },
  {
   "cell_type": "markdown",
   "metadata": {},
   "source": [
    "すべてデータに対して、観測結果と予測結果がどれだけ正解していたかを評価する値。"
   ]
  },
  {
   "cell_type": "markdown",
   "metadata": {},
   "source": [
    "$$\n",
    "Accuracy = \\frac{TP + TN}{TP + TN + FP + FN}\n",
    "$$"
   ]
  },
  {
   "cell_type": "markdown",
   "metadata": {},
   "source": [
    "## 評価指標の特性"
   ]
  },
  {
   "cell_type": "markdown",
   "metadata": {},
   "source": [
    "- どれだけモデルが正解していたかを確認することができる。"
   ]
  },
  {
   "cell_type": "markdown",
   "metadata": {},
   "source": [
    "## sklearnにおける使用例"
   ]
  },
  {
   "cell_type": "code",
   "execution_count": 25,
   "metadata": {},
   "outputs": [
    {
     "name": "stdout",
     "output_type": "stream",
     "text": [
      "0.9532163742690059\n"
     ]
    }
   ],
   "source": [
    "from sklearn.metrics import accuracy_score\n",
    "\n",
    "# データセットの読み取り(がんの推測)\n",
    "cancer = load_breast_cancer()\n",
    "X_train, X_test, y_train, y_test = train_test_split(cancer.data, cancer.target, train_size=0.7, random_state=1)\n",
    "\n",
    "# モデルの構築\n",
    "lr = LogisticRegression()\n",
    "lr.fit(X_train, y_train)\n",
    "\n",
    "# 正答率の表示\n",
    "print(accuracy_score(y_test, lr.predict(X_test)))"
   ]
  },
  {
   "cell_type": "markdown",
   "metadata": {},
   "source": [
    "# 適合率(Precision)"
   ]
  },
  {
   "cell_type": "markdown",
   "metadata": {},
   "source": [
    "## 評価指標・導出方法"
   ]
  },
  {
   "cell_type": "markdown",
   "metadata": {},
   "source": [
    "モデルがPositive（陽性）と判断した対象について、どれだけが本当にPositiveだったかを示す値。混合行列の要素を用いて以下の様に示せる。"
   ]
  },
  {
   "cell_type": "markdown",
   "metadata": {},
   "source": [
    "$$\n",
    "Precision = \\frac{TP}{TP + FP}\n",
    "$$"
   ]
  },
  {
   "cell_type": "markdown",
   "metadata": {},
   "source": [
    "## 評価指標の特性"
   ]
  },
  {
   "cell_type": "markdown",
   "metadata": {},
   "source": [
    "- モデルが陽性といったものがどれだけ本当に陽性かがわかる(陽性とした判断の信憑性がわかる)"
   ]
  },
  {
   "cell_type": "markdown",
   "metadata": {},
   "source": [
    "## sklearnにおける使用例"
   ]
  },
  {
   "cell_type": "code",
   "execution_count": 26,
   "metadata": {},
   "outputs": [
    {
     "name": "stdout",
     "output_type": "stream",
     "text": [
      "0.9464285714285714\n"
     ]
    }
   ],
   "source": [
    "from sklearn.metrics import precision_score\n",
    "\n",
    "# データセットの読み取り(がんの推測)\n",
    "cancer = load_breast_cancer()\n",
    "X_train, X_test, y_train, y_test = train_test_split(cancer.data, cancer.target, train_size=0.7, random_state=1)\n",
    "\n",
    "# モデルの構築\n",
    "lr = LogisticRegression()\n",
    "lr.fit(X_train, y_train)\n",
    "\n",
    "# 適合率の表示\n",
    "print(precision_score(y_test, lr.predict(X_test)))"
   ]
  },
  {
   "cell_type": "markdown",
   "metadata": {},
   "source": [
    "# 再現率(Recall)"
   ]
  },
  {
   "cell_type": "markdown",
   "metadata": {},
   "source": [
    "## 評価指標・導出方法"
   ]
  },
  {
   "cell_type": "markdown",
   "metadata": {},
   "source": [
    "モデルが実際にPositive（陽性）のデータをどれだけ抽出することができたかを評価する値。"
   ]
  },
  {
   "cell_type": "markdown",
   "metadata": {},
   "source": [
    "$$\n",
    "Recall = \\frac{TP}{TP + FN}\n",
    "$$"
   ]
  },
  {
   "cell_type": "markdown",
   "metadata": {},
   "source": [
    "## 評価指標の特性"
   ]
  },
  {
   "cell_type": "markdown",
   "metadata": {},
   "source": [
    "- モデルが実際に陽性のデータをどれだけ抽出できるかを評価できる。"
   ]
  },
  {
   "cell_type": "markdown",
   "metadata": {},
   "source": [
    "## sklearnにおける使用例"
   ]
  },
  {
   "cell_type": "code",
   "execution_count": 27,
   "metadata": {},
   "outputs": [
    {
     "name": "stdout",
     "output_type": "stream",
     "text": [
      "0.9814814814814815\n"
     ]
    }
   ],
   "source": [
    "from sklearn.metrics import recall_score\n",
    "\n",
    "# データセットの読み取り(がんの推測)\n",
    "cancer = load_breast_cancer()\n",
    "X_train, X_test, y_train, y_test = train_test_split(cancer.data, cancer.target, train_size=0.7, random_state=1)\n",
    "\n",
    "# モデルの構築\n",
    "lr = LogisticRegression()\n",
    "lr.fit(X_train, y_train)\n",
    "\n",
    "# 再現率の表示\n",
    "print(recall_score(y_test, lr.predict(X_test)))"
   ]
  },
  {
   "cell_type": "markdown",
   "metadata": {},
   "source": [
    "# 交差エントロピー誤差(Cross Entropy Loss; Log Loss)"
   ]
  },
  {
   "cell_type": "markdown",
   "metadata": {},
   "source": [
    "## 評価指標・導出方法"
   ]
  },
  {
   "cell_type": "markdown",
   "metadata": {},
   "source": [
    "とある分類における観測結果の種類の数をn、各観測結果の種類をi、その種類に対する観測結果$p_i$が出現する確率と、予測結果が出現する$q_i$を用いて交差エントロピーの値は以下の様に示される。\n",
    "\n",
    "$$\n",
    "E =-\\displaystyle\\sum_{i=1}^np_i\\log q_i\n",
    "$$\n",
    "\n",
    "ここで、機械学習における分類問題においては観測結果$p_i$が0と1のラベルで表現されており、それに対する予測結果$q_i$はすなわち正解しているラベルに対する出現確率であるので、q_iが正解に対する予測結果の割合とすると\n",
    "\n",
    "$$\n",
    "E = -\\log q_i\n",
    "$$\n",
    "\n",
    "で示される。"
   ]
  },
  {
   "cell_type": "markdown",
   "metadata": {},
   "source": [
    "## 評価指標の特性"
   ]
  },
  {
   "cell_type": "markdown",
   "metadata": {},
   "source": [
    "- 交差エントロピー誤差の値は観測結果と予測結果の誤差が大きい($q_i=0$)ときは値が大きくなり、観測結果と予測結果の誤差が小さい($q_i=1$)ときは0に近くなる。以下の表参照\n",
    "- 交差エントロピー誤差は誤差が大きい値の時、傾きが収束の方向に大きく動くため、使用されることが多い\n",
    "\n",
    "![](https://manareki.com/wp-content/uploads/2019/03/log.png)\n",
    "$p(k)=p_i$です。。。。"
   ]
  },
  {
   "cell_type": "markdown",
   "metadata": {},
   "source": [
    "## sklearnにおける使用例"
   ]
  },
  {
   "cell_type": "code",
   "execution_count": 59,
   "metadata": {},
   "outputs": [
    {
     "data": {
      "text/plain": [
       "0.11655963246028916"
      ]
     },
     "execution_count": 59,
     "metadata": {},
     "output_type": "execute_result"
    }
   ],
   "source": [
    "from sklearn.metrics import log_loss\n",
    "\n",
    "# データセットの読み取り(がんの推測)\n",
    "cancer = load_breast_cancer()\n",
    "X_train, X_test, y_train, y_test = train_test_split(cancer.data, cancer.target, train_size=0.7, random_state=1)\n",
    "\n",
    "# モデルの構築\n",
    "lr = LogisticRegression()\n",
    "lr.fit(X_train, y_train)\n",
    "\n",
    "# 交差エントロピー誤差の表示(predictではなくpredict_probaを渡すことに注意！！)\n",
    "log_loss(y_test, lr.predict_proba(X_test))"
   ]
  },
  {
   "cell_type": "markdown",
   "metadata": {},
   "source": [
    "終わり"
   ]
  }
 ],
 "metadata": {
  "kernelspec": {
   "display_name": "Python 3",
   "language": "python",
   "name": "python3"
  },
  "language_info": {
   "codemirror_mode": {
    "name": "ipython",
    "version": 3
   },
   "file_extension": ".py",
   "mimetype": "text/x-python",
   "name": "python",
   "nbconvert_exporter": "python",
   "pygments_lexer": "ipython3",
   "version": "3.7.3"
  },
  "toc": {
   "base_numbering": 1,
   "nav_menu": {},
   "number_sections": true,
   "sideBar": true,
   "skip_h1_title": false,
   "title_cell": "Table of Contents",
   "title_sidebar": "Contents",
   "toc_cell": false,
   "toc_position": {},
   "toc_section_display": true,
   "toc_window_display": false
  }
 },
 "nbformat": 4,
 "nbformat_minor": 2
}
